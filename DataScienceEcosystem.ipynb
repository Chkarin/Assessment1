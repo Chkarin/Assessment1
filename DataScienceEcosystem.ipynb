{
  "metadata": {
    "language_info": {
      "codemirror_mode": {
        "name": "python",
        "version": 3
      },
      "file_extension": ".py",
      "mimetype": "text/x-python",
      "name": "python",
      "nbconvert_exporter": "python",
      "pygments_lexer": "ipython3",
      "version": "3.8"
    },
    "kernelspec": {
      "name": "python",
      "display_name": "Python (Pyodide)",
      "language": "python"
    }
  },
  "nbformat_minor": 4,
  "nbformat": 4,
  "cells": [
    {
      "cell_type": "markdown",
      "source": "# Data Science Tools and Ecosystem",
      "metadata": {}
    },
    {
      "cell_type": "markdown",
      "source": "# In this notebook, Data Science Tools and Ecosystem are summarized.",
      "metadata": {}
    },
    {
      "cell_type": "markdown",
      "source": "**Objectives:**\n- List of the popular languages that Data Scientists use\n- List of the commonly used libraries used by Data Scientists\n- List of Data Science Tools",
      "metadata": {}
    },
    {
      "cell_type": "code",
      "source": "## Some of the popular languages that Data Scientists use are:\n1. Python\n2. R\n3. SQL",
      "metadata": {},
      "execution_count": null,
      "outputs": []
    },
    {
      "cell_type": "code",
      "source": "## Some of the commonly used libraries used by Data Scientists include:\n1. Python \n2. Pandas\n3. TensorFlow",
      "metadata": {},
      "execution_count": null,
      "outputs": []
    },
    {
      "cell_type": "code",
      "source": "| Data Science Tools |\n|:.................:|\n| Watson Studio|\n| Azure|\n| Apache Spark |",
      "metadata": {},
      "execution_count": null,
      "outputs": []
    },
    {
      "cell_type": "markdown",
      "source": "### Below are a few examples of evaluating arithmetic expressions in Python\n1.1\n2.2\n3.3\n4.4\n5.5\n\n1. x=min(5,10,15)\n2. y=max(5,10,15)\n3.\n4. print(x)\n5. print(y)",
      "metadata": {}
    },
    {
      "cell_type": "code",
  
      "cell_type": "code",
      "source": "### This a simple arithmetic expression to mutiply then add integers\na=3\nb=4\nc=5\nprint ((a*b)+c)",
      "metadata": {
        "trusted": true
      },
      "execution_count": 6,
      "outputs": [
        {
          "name": "stdout",
          "text": "17\n",
          "output_type": "stream"
        }
      ]
    },
    {
      "cell_type": "code",
      "source": "###This will convert 200 minutes to hours by diving by 60\nminutes=200\nhour=60\nprint(minutes/hour)",
      "metadata": {
        "trusted": true
      },
      "execution_count": 7,
      "outputs": [
        {
          "name": "stdout",
          "text": "3.3333333333333335\n",
          "output_type": "stream"
        }
      ]
    },
    {
      "cell_type": "markdown",
      "source": "## Author\nInga",
      "metadata": {}
    }
  ]
}
